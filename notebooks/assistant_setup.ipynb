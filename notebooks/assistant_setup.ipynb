{
 "cells": [
  {
   "cell_type": "markdown",
   "metadata": {},
   "source": [
    "# Step 0: Load Packages"
   ]
  },
  {
   "cell_type": "code",
   "execution_count": 5,
   "metadata": {},
   "outputs": [
    {
     "ename": "TypeError",
     "evalue": "Pinecone.create_index() missing 1 required positional argument: 'spec'",
     "output_type": "error",
     "traceback": [
      "\u001b[0;31m---------------------------------------------------------------------------\u001b[0m",
      "\u001b[0;31mTypeError\u001b[0m                                 Traceback (most recent call last)",
      "Cell \u001b[0;32mIn[5], line 27\u001b[0m\n\u001b[1;32m     25\u001b[0m \u001b[38;5;28;01mfrom\u001b[39;00m \u001b[38;5;21;01mpinecone\u001b[39;00m \u001b[38;5;28;01mimport\u001b[39;00m Pinecone\n\u001b[1;32m     26\u001b[0m pc \u001b[38;5;241m=\u001b[39m Pinecone(api_key\u001b[38;5;241m=\u001b[39mos\u001b[38;5;241m.\u001b[39mgetenv(\u001b[38;5;124m'\u001b[39m\u001b[38;5;124mSGS_API_KEY\u001b[39m\u001b[38;5;124m'\u001b[39m))\n\u001b[0;32m---> 27\u001b[0m \u001b[43mpc\u001b[49m\u001b[38;5;241;43m.\u001b[39;49m\u001b[43mcreate_index\u001b[49m\u001b[43m(\u001b[49m\u001b[43mname\u001b[49m\u001b[38;5;241;43m=\u001b[39;49m\u001b[43mos\u001b[49m\u001b[38;5;241;43m.\u001b[39;49m\u001b[43mgetenv\u001b[49m\u001b[43m(\u001b[49m\u001b[38;5;124;43m'\u001b[39;49m\u001b[38;5;124;43mSGS_INDEX_NAME\u001b[39;49m\u001b[38;5;124;43m'\u001b[39;49m\u001b[43m)\u001b[49m\u001b[43m,\u001b[49m\u001b[43m \u001b[49m\u001b[43mdimension\u001b[49m\u001b[38;5;241;43m=\u001b[39;49m\u001b[38;5;241;43m1024\u001b[39;49m\u001b[43m,\u001b[49m\u001b[43m \u001b[49m\u001b[43mmetric\u001b[49m\u001b[38;5;241;43m=\u001b[39;49m\u001b[38;5;124;43m'\u001b[39;49m\u001b[38;5;124;43mcosine\u001b[39;49m\u001b[38;5;124;43m'\u001b[39;49m\u001b[43m)\u001b[49m\n\u001b[1;32m     29\u001b[0m vectordb \u001b[38;5;241m=\u001b[39m PineconeVectorDatabase(api_key\u001b[38;5;241m=\u001b[39mos\u001b[38;5;241m.\u001b[39mgetenv(\u001b[38;5;124m'\u001b[39m\u001b[38;5;124mSGS_API_KEY\u001b[39m\u001b[38;5;124m'\u001b[39m), index_name\u001b[38;5;241m=\u001b[39mos\u001b[38;5;241m.\u001b[39mgetenv(\u001b[38;5;124m'\u001b[39m\u001b[38;5;124mSGS_INDEX_NAME\u001b[39m\u001b[38;5;124m'\u001b[39m))\n",
      "\u001b[0;31mTypeError\u001b[0m: Pinecone.create_index() missing 1 required positional argument: 'spec'"
     ]
    }
   ],
   "source": [
    "from glob import glob\n",
    "import re\n",
    "import os\n",
    "from tqdm import tqdm\n",
    "import json\n",
    "import pandas as pd\n",
    "import hashlib\n",
    "# import sys\n",
    "# sys.path.append('../')\n",
    "from IPython.display import Markdown, display\n",
    "\n",
    "from llama_index.core.node_parser import SentenceSplitter\n",
    "from llama_index.readers.file import FlatReader\n",
    "from pathlib import Path\n",
    "\n",
    "from dotenv import load_dotenv\n",
    "load_dotenv()\n",
    "\n",
    "from sgs_chatbot.embedder.voyage import VoyageEmbedder\n",
    "embedder = VoyageEmbedder(api_key=os.getenv('VOYAGE_KEY'))\n",
    "\n",
    "from sgs_chatbot.vector_database.record import Record\n",
    "from sgs_chatbot.vector_database.pinecone import PineconeVectorDatabase\n",
    "\n",
    "# from pinecone import Pinecone\n",
    "# pc = Pinecone(api_key=os.getenv('SGS_API_KEY'))\n",
    "# pc.create_index(name=os.getenv('SGS_INDEX_NAME'), dimension=1024, metric='cosine', spec=)\n",
    "\n",
    "vectordb = PineconeVectorDatabase(api_key=os.getenv('SGS_API_KEY'), index_name=os.getenv('SGS_INDEX_NAME'))\n"
   ]
  },
  {
   "cell_type": "markdown",
   "metadata": {},
   "source": [
    "# Step 1: Scraper\n",
    "\n",
    "Run the scraper for all the spiders from the `./scraper/` folder.\n",
    "\n",
    "Eg: to run the grad_school_info_spider\n",
    "`scrapy crawl grad_school_info_spider`\n",
    "\n",
    "The data will be accumulated inside the `data/<spider_name>`\n",
    " folder path"
   ]
  },
  {
   "cell_type": "markdown",
   "metadata": {},
   "source": [
    "# Step 2: Doc Formatting"
   ]
  },
  {
   "cell_type": "code",
   "execution_count": 11,
   "metadata": {},
   "outputs": [],
   "source": [
    "def remove_multiple_whitespaces(s):\n",
    "    return re.sub('\\s+', ' ', s)\n",
    "\n",
    "def remove_newlines(s):\n",
    "    s = s.replace('\\r\\n\\t', '')\n",
    "    s = s.replace('\\n', ' ')\n",
    "    s = s.replace('\\r', ' ')\n",
    "    s = s.replace('\\t', ' ')\n",
    "    #remove multiple whitespaces\n",
    "    s = remove_multiple_whitespaces(s)\n",
    "    return s.strip()"
   ]
  },
  {
   "cell_type": "code",
   "execution_count": 12,
   "metadata": {},
   "outputs": [],
   "source": [
    "data_path = '../data/'\n",
    "metadata_path = glob(os.path.join(data_path, '*/**/*.json'))"
   ]
  },
  {
   "cell_type": "code",
   "execution_count": 13,
   "metadata": {},
   "outputs": [
    {
     "data": {
      "text/plain": [
       "['../data/grad_school_info_spider/gradstudy.rutgers.edu/metadata.json',\n",
       " '../data/grad_school_info_spider/grad.admissions.rutgers.edu/metadata.json',\n",
       " '../data/grad_school_info_spider/rutgers.my.site.com/metadata.json',\n",
       " '../data/grad_school_info_spider/grad.rutgers.edu/metadata.json']"
      ]
     },
     "execution_count": 13,
     "metadata": {},
     "output_type": "execute_result"
    }
   ],
   "source": [
    "metadata_path"
   ]
  },
  {
   "cell_type": "markdown",
   "metadata": {},
   "source": [
    "Load content from all the markdown files"
   ]
  },
  {
   "cell_type": "code",
   "execution_count": 14,
   "metadata": {},
   "outputs": [
    {
     "name": "stderr",
     "output_type": "stream",
     "text": [
      "huggingface/tokenizers: The current process just got forked, after parallelism has already been used. Disabling parallelism to avoid deadlocks...\n",
      "To disable this warning, you can either:\n",
      "\t- Avoid using `tokenizers` before the fork if possible\n",
      "\t- Explicitly set the environment variable TOKENIZERS_PARALLELISM=(true | false)\n",
      "  0%|          | 0/4 [00:00<?, ?it/s]"
     ]
    },
    {
     "name": "stderr",
     "output_type": "stream",
     "text": [
      "100%|██████████| 4/4 [00:00<00:00, 15.24it/s]\n"
     ]
    }
   ],
   "source": [
    "records = []\n",
    "for path in tqdm(metadata_path, total=len(metadata_path)):\n",
    "    #open json file\n",
    "    with open(path, 'r') as f:\n",
    "        metadata = json.load(f)\n",
    "    \n",
    "    for filename, meta in metadata.items():\n",
    "        records.append({\n",
    "            'markdown': open(os.path.join('../data', filename), 'r').read(),\n",
    "            'url': meta['url'],\n",
    "            'title': meta['title'],\n",
    "        })"
   ]
  },
  {
   "cell_type": "code",
   "execution_count": 15,
   "metadata": {},
   "outputs": [],
   "source": [
    "data = pd.DataFrame(records)"
   ]
  },
  {
   "cell_type": "code",
   "execution_count": 16,
   "metadata": {},
   "outputs": [],
   "source": [
    "data['title'] = data['title'].apply(remove_newlines)\n"
   ]
  },
  {
   "cell_type": "markdown",
   "metadata": {},
   "source": [
    "*Examine the token distribution in these documents*"
   ]
  },
  {
   "cell_type": "code",
   "execution_count": 17,
   "metadata": {},
   "outputs": [],
   "source": [
    "data['num_tokens'] = data['markdown'].apply(lambda x: embedder.count_tokens(x))"
   ]
  },
  {
   "cell_type": "code",
   "execution_count": 18,
   "metadata": {},
   "outputs": [
    {
     "data": {
      "text/plain": [
       "count      102.000000\n",
       "mean      4126.333333\n",
       "std       2463.642841\n",
       "min       1021.000000\n",
       "10%       2376.000000\n",
       "25%       3063.250000\n",
       "50%       3616.500000\n",
       "75%       4582.750000\n",
       "90%       5656.400000\n",
       "max      20997.000000\n",
       "Name: num_tokens, dtype: float64"
      ]
     },
     "execution_count": 18,
     "metadata": {},
     "output_type": "execute_result"
    }
   ],
   "source": [
    "data['num_tokens'].describe(percentiles=[0.1, 0.25, 0.5, 0.75, 0.9])"
   ]
  },
  {
   "cell_type": "code",
   "execution_count": 19,
   "metadata": {},
   "outputs": [],
   "source": [
    "data.to_parquet('../data/markdowns.parquet', engine='pyarrow', index=False)"
   ]
  },
  {
   "cell_type": "markdown",
   "metadata": {},
   "source": [
    "## Chunking"
   ]
  },
  {
   "cell_type": "code",
   "execution_count": 20,
   "metadata": {},
   "outputs": [
    {
     "name": "stderr",
     "output_type": "stream",
     "text": [
      "100%|██████████| 4/4 [00:02<00:00,  1.73it/s]\n"
     ]
    }
   ],
   "source": [
    "records = []\n",
    "parser = SentenceSplitter(chunk_size=512, chunk_overlap=32)\n",
    "for path in tqdm(metadata_path, total=len(metadata_path)):\n",
    "    #open json file\n",
    "    with open(path, 'r') as f:\n",
    "        metadata = json.load(f)\n",
    "    \n",
    "    for filename, meta in metadata.items():\n",
    "        md_docs = FlatReader().load_data(Path(os.path.join('../data', filename)))\n",
    "        nodes = parser.get_nodes_from_documents(md_docs)\n",
    "        for node in nodes:\n",
    "            records.append({\n",
    "                'markdown': remove_newlines(node.get_content()),\n",
    "                'url': meta['url'],\n",
    "                'title': meta['title'],\n",
    "            })"
   ]
  },
  {
   "cell_type": "code",
   "execution_count": 21,
   "metadata": {},
   "outputs": [],
   "source": [
    "data = pd.DataFrame(records)"
   ]
  },
  {
   "cell_type": "code",
   "execution_count": 22,
   "metadata": {},
   "outputs": [
    {
     "data": {
      "text/html": [
       "<div>\n",
       "<style scoped>\n",
       "    .dataframe tbody tr th:only-of-type {\n",
       "        vertical-align: middle;\n",
       "    }\n",
       "\n",
       "    .dataframe tbody tr th {\n",
       "        vertical-align: top;\n",
       "    }\n",
       "\n",
       "    .dataframe thead th {\n",
       "        text-align: right;\n",
       "    }\n",
       "</style>\n",
       "<table border=\"1\" class=\"dataframe\">\n",
       "  <thead>\n",
       "    <tr style=\"text-align: right;\">\n",
       "      <th></th>\n",
       "      <th>markdown</th>\n",
       "      <th>url</th>\n",
       "      <th>title</th>\n",
       "    </tr>\n",
       "  </thead>\n",
       "  <tbody>\n",
       "    <tr>\n",
       "      <th>0</th>\n",
       "      <td># Home | Graduate and Professional Admissions ...</td>\n",
       "      <td>https://gradstudy.rutgers.edu/</td>\n",
       "      <td>\\r\\n\\tHome | Graduate and Professional Admissi...</td>\n",
       "    </tr>\n",
       "    <tr>\n",
       "      <th>1</th>\n",
       "      <td>[![Graduate and Professional Admissions Home](...</td>\n",
       "      <td>https://gradstudy.rutgers.edu/</td>\n",
       "      <td>\\r\\n\\tHome | Graduate and Professional Admissi...</td>\n",
       "    </tr>\n",
       "    <tr>\n",
       "      <th>2</th>\n",
       "      <td>![](/Images/Program_Focus.jpg) **Biomedical an...</td>\n",
       "      <td>https://gradstudy.rutgers.edu/</td>\n",
       "      <td>\\r\\n\\tHome | Graduate and Professional Admissi...</td>\n",
       "    </tr>\n",
       "    <tr>\n",
       "      <th>3</th>\n",
       "      <td>**Graduate Admissions - School of Nursing** tr...</td>\n",
       "      <td>https://gradstudy.rutgers.edu/</td>\n",
       "      <td>\\r\\n\\tHome | Graduate and Professional Admissi...</td>\n",
       "    </tr>\n",
       "    <tr>\n",
       "      <th>4</th>\n",
       "      <td>* **Application Portal** * [**Create Account**...</td>\n",
       "      <td>https://gradstudy.rutgers.edu/</td>\n",
       "      <td>\\r\\n\\tHome | Graduate and Professional Admissi...</td>\n",
       "    </tr>\n",
       "    <tr>\n",
       "      <th>...</th>\n",
       "      <td>...</td>\n",
       "      <td>...</td>\n",
       "      <td>...</td>\n",
       "    </tr>\n",
       "    <tr>\n",
       "      <th>785</th>\n",
       "      <td>+ [Application Requirements](/admissions/appli...</td>\n",
       "      <td>https://grad.rutgers.edu/alumni</td>\n",
       "      <td>Alumni | Rutgers School of Graduate Studies</td>\n",
       "    </tr>\n",
       "    <tr>\n",
       "      <th>786</th>\n",
       "      <td>+ [Current Graduate Students](/diversity-and-o...</td>\n",
       "      <td>https://grad.rutgers.edu/alumni</td>\n",
       "      <td>Alumni | Rutgers School of Graduate Studies</td>\n",
       "    </tr>\n",
       "    <tr>\n",
       "      <th>787</th>\n",
       "      <td>+ [SGS Fellowships &amp; Grants](/funding/fellowsh...</td>\n",
       "      <td>https://grad.rutgers.edu/alumni</td>\n",
       "      <td>Alumni | Rutgers School of Graduate Studies</td>\n",
       "    </tr>\n",
       "    <tr>\n",
       "      <th>788</th>\n",
       "      <td>1. [Home](/) 2. Alumni Stay connected --------...</td>\n",
       "      <td>https://grad.rutgers.edu/alumni</td>\n",
       "      <td>Alumni | Rutgers School of Graduate Studies</td>\n",
       "    </tr>\n",
       "    <tr>\n",
       "      <th>789</th>\n",
       "      <td>[View Details](/news/sgs-alumni-spotlight-lorn...</td>\n",
       "      <td>https://grad.rutgers.edu/alumni</td>\n",
       "      <td>Alumni | Rutgers School of Graduate Studies</td>\n",
       "    </tr>\n",
       "  </tbody>\n",
       "</table>\n",
       "<p>790 rows × 3 columns</p>\n",
       "</div>"
      ],
      "text/plain": [
       "                                              markdown  \\\n",
       "0    # Home | Graduate and Professional Admissions ...   \n",
       "1    [![Graduate and Professional Admissions Home](...   \n",
       "2    ![](/Images/Program_Focus.jpg) **Biomedical an...   \n",
       "3    **Graduate Admissions - School of Nursing** tr...   \n",
       "4    * **Application Portal** * [**Create Account**...   \n",
       "..                                                 ...   \n",
       "785  + [Application Requirements](/admissions/appli...   \n",
       "786  + [Current Graduate Students](/diversity-and-o...   \n",
       "787  + [SGS Fellowships & Grants](/funding/fellowsh...   \n",
       "788  1. [Home](/) 2. Alumni Stay connected --------...   \n",
       "789  [View Details](/news/sgs-alumni-spotlight-lorn...   \n",
       "\n",
       "                                 url  \\\n",
       "0     https://gradstudy.rutgers.edu/   \n",
       "1     https://gradstudy.rutgers.edu/   \n",
       "2     https://gradstudy.rutgers.edu/   \n",
       "3     https://gradstudy.rutgers.edu/   \n",
       "4     https://gradstudy.rutgers.edu/   \n",
       "..                               ...   \n",
       "785  https://grad.rutgers.edu/alumni   \n",
       "786  https://grad.rutgers.edu/alumni   \n",
       "787  https://grad.rutgers.edu/alumni   \n",
       "788  https://grad.rutgers.edu/alumni   \n",
       "789  https://grad.rutgers.edu/alumni   \n",
       "\n",
       "                                                 title  \n",
       "0    \\r\\n\\tHome | Graduate and Professional Admissi...  \n",
       "1    \\r\\n\\tHome | Graduate and Professional Admissi...  \n",
       "2    \\r\\n\\tHome | Graduate and Professional Admissi...  \n",
       "3    \\r\\n\\tHome | Graduate and Professional Admissi...  \n",
       "4    \\r\\n\\tHome | Graduate and Professional Admissi...  \n",
       "..                                                 ...  \n",
       "785        Alumni | Rutgers School of Graduate Studies  \n",
       "786        Alumni | Rutgers School of Graduate Studies  \n",
       "787        Alumni | Rutgers School of Graduate Studies  \n",
       "788        Alumni | Rutgers School of Graduate Studies  \n",
       "789        Alumni | Rutgers School of Graduate Studies  \n",
       "\n",
       "[790 rows x 3 columns]"
      ]
     },
     "execution_count": 22,
     "metadata": {},
     "output_type": "execute_result"
    }
   ],
   "source": [
    "data"
   ]
  },
  {
   "cell_type": "code",
   "execution_count": 23,
   "metadata": {},
   "outputs": [
    {
     "data": {
      "text/plain": [
       "count    790.000000\n",
       "mean     454.429114\n",
       "std      112.997143\n",
       "min       84.000000\n",
       "10%      266.000000\n",
       "25%      407.000000\n",
       "50%      488.500000\n",
       "75%      540.000000\n",
       "90%      575.000000\n",
       "max      656.000000\n",
       "Name: num_tokens, dtype: float64"
      ]
     },
     "execution_count": 23,
     "metadata": {},
     "output_type": "execute_result"
    }
   ],
   "source": [
    "data['title'] = data['title'].apply(remove_newlines)\n",
    "data['num_tokens'] = data['markdown'].apply(lambda x: embedder.count_tokens(x))\n",
    "data['num_tokens'].describe(percentiles=[0.1, 0.25, 0.5, 0.75, 0.9])"
   ]
  },
  {
   "cell_type": "code",
   "execution_count": 24,
   "metadata": {},
   "outputs": [],
   "source": [
    "data.to_parquet('../data/markdowns_chunked.parquet', engine='pyarrow', index=False)"
   ]
  },
  {
   "cell_type": "markdown",
   "metadata": {},
   "source": [
    "# Step 3: Generate Embeddings"
   ]
  },
  {
   "cell_type": "code",
   "execution_count": 25,
   "metadata": {},
   "outputs": [
    {
     "name": "stderr",
     "output_type": "stream",
     "text": [
      "  0%|          | 0/790 [00:00<?, ?it/s]/Users/arao/Library/Caches/pypoetry/virtualenvs/sgs-chatbot-LQF_GuE7-py3.10/lib/python3.10/site-packages/voyageai/client.py:38: UserWarning: The `model` argument is not specified and defaults to voyage-2. It will be a required argument in the future. We recommend to specify the model when using this function. Please see https://docs.voyageai.com/docs/embeddings for the list of latest models provided by Voyage AI.\n",
      "  warnings.warn(\n",
      "100%|██████████| 790/790 [03:17<00:00,  4.01it/s]\n"
     ]
    }
   ],
   "source": [
    "\n",
    "records = data.to_dict(orient='records')\n",
    "updated_records = []\n",
    "for record in tqdm(records, total=len(records)):\n",
    "    updated_records.append({\n",
    "        'url': record['url'],\n",
    "        'title': record['title'],\n",
    "        'markdown': record['markdown'],\n",
    "        'num_tokens': record['num_tokens'],\n",
    "        'embeddings': embedder.embed(record['markdown'])\n",
    "    })\n",
    "\n",
    "data = pd.DataFrame(updated_records)"
   ]
  },
  {
   "cell_type": "code",
   "execution_count": 26,
   "metadata": {},
   "outputs": [],
   "source": [
    "data.to_parquet('../data/embeddings.parquet', engine='pyarrow', index = None)"
   ]
  },
  {
   "cell_type": "markdown",
   "metadata": {},
   "source": [
    "# Step 4: Ingestion to DB"
   ]
  },
  {
   "cell_type": "code",
   "execution_count": 2,
   "metadata": {},
   "outputs": [],
   "source": [
    "data = pd.read_parquet('../data/embeddings.parquet', engine='pyarrow')"
   ]
  },
  {
   "cell_type": "code",
   "execution_count": 3,
   "metadata": {},
   "outputs": [
    {
     "ename": "NameError",
     "evalue": "name 'vectordb' is not defined",
     "output_type": "error",
     "traceback": [
      "\u001b[0;31m---------------------------------------------------------------------------\u001b[0m",
      "\u001b[0;31mNameError\u001b[0m                                 Traceback (most recent call last)",
      "Cell \u001b[0;32mIn[3], line 1\u001b[0m\n\u001b[0;32m----> 1\u001b[0m \u001b[43mvectordb\u001b[49m\u001b[38;5;241m.\u001b[39mcreate_index()\n",
      "\u001b[0;31mNameError\u001b[0m: name 'vectordb' is not defined"
     ]
    }
   ],
   "source": [
    "\n",
    "vectordb.create_index()"
   ]
  },
  {
   "cell_type": "code",
   "execution_count": 49,
   "metadata": {},
   "outputs": [
    {
     "data": {
      "text/plain": [
       "Index(['url', 'title', 'markdown', 'num_tokens', 'embeddings'], dtype='object')"
      ]
     },
     "execution_count": 49,
     "metadata": {},
     "output_type": "execute_result"
    }
   ],
   "source": [
    "data.columns"
   ]
  },
  {
   "cell_type": "markdown",
   "metadata": {},
   "source": [
    "*Create Records to push to vector db*"
   ]
  },
  {
   "cell_type": "code",
   "execution_count": 50,
   "metadata": {},
   "outputs": [],
   "source": [
    "records_to_upsert = []\n",
    "\n",
    "for _, row in data.iterrows():\n",
    "    record_data = {\n",
    "        'id': hashlib.sha256(row['url'].encode()).hexdigest(),  # Generating ID from URL\n",
    "        'values': row['embeddings'],  # Directly using embeddings\n",
    "        'metadata': {\n",
    "            'url': row['url'],\n",
    "            'title': row['title'],\n",
    "            'content': row['markdown'],\n",
    "        }\n",
    "    }\n",
    "    record = Record(**record_data)\n",
    "    records_to_upsert.append({\n",
    "        \"id\": record.id,\n",
    "        \"values\": record.values,\n",
    "        \"metadata\": record.metadata\n",
    "    })\n"
   ]
  },
  {
   "cell_type": "code",
   "execution_count": 51,
   "metadata": {},
   "outputs": [
    {
     "name": "stdout",
     "output_type": "stream",
     "text": [
      "Upserted:  790  records with batch size:  100\n"
     ]
    }
   ],
   "source": [
    "vectordb.upsert(records=records_to_upsert, batch_size=100)"
   ]
  },
  {
   "cell_type": "markdown",
   "metadata": {},
   "source": [
    "# Step 5: RAG"
   ]
  },
  {
   "cell_type": "code",
   "execution_count": 6,
   "metadata": {},
   "outputs": [
    {
     "name": "stderr",
     "output_type": "stream",
     "text": [
      "/Users/arao/Library/Caches/pypoetry/virtualenvs/sgs-chatbot-LQF_GuE7-py3.10/lib/python3.10/site-packages/voyageai/client.py:38: UserWarning: The `model` argument is not specified and defaults to voyage-2. It will be a required argument in the future. We recommend to specify the model when using this function. Please see https://docs.voyageai.com/docs/embeddings for the list of latest models provided by Voyage AI.\n",
      "  warnings.warn(\n"
     ]
    }
   ],
   "source": [
    "vector = embedder.embed('What courses are available?')\n",
    "\n",
    "results = vectordb.search(vector, top_k=5)"
   ]
  },
  {
   "cell_type": "code",
   "execution_count": 8,
   "metadata": {},
   "outputs": [
    {
     "data": {
      "text/plain": [
       "{'id': '9827e3f4b32bc9bf2536b947934d2c1c198812e034ba77e78ac7366db5d1b264',\n",
       " 'metadata': {'content': 'Get answers to the many questions that come up as '\n",
       "                         'you find just the right graduate or professional '\n",
       "                         'program for you.\\n'\n",
       "                         '\\n'\n",
       "                         '\\n'\n",
       "                         '* [Contact Graduate and Professional '\n",
       "                         'Admissions](/about/contact-us).\\n'\n",
       "                         '* [Find a program through Rutgers Biomedical and '\n",
       "                         'Health Sciences](http://rbhs.rutgers.edu)\\n'\n",
       "                         '\\n'\n",
       "                         '\\n'\n",
       "                         '\\n'\n",
       "                         '\\n'\n",
       "                         '\\n'\n",
       "                         ' \\n'\n",
       "                         '\\n'\n",
       "                         '\\n'\n",
       "                         '\\n'\n",
       "                         '\\n'\n",
       "                         '\\n'\n",
       "                         '\\n'\n",
       "                         '\\n'\n",
       "                         'Explore Programs\\n'\n",
       "                         '----------------\\n'\n",
       "                         '\\n'\n",
       "                         '\\n'\n",
       "                         '\\n'\n",
       "                         '\\n'\n",
       "                         '\\n'\n",
       "                         '* [Explore Programs](/explore/explore-programs)\\n'\n",
       "                         '* [Search '\n",
       "                         'Programs](http://grad.admissions.rutgers.edu/GraduateProgram/)\\n'\n",
       "                         '\\n'\n",
       "                         '\\n'\n",
       "                         '\\n'\n",
       "                         '\\n'\n",
       "                         '\\n'\n",
       "                         '\\n'\n",
       "                         '\\n'\n",
       "                         'Related\\n'\n",
       "                         '-------\\n'\n",
       "                         '\\n'\n",
       "                         '\\n'\n",
       "                         '\\n'\n",
       "                         '\\n'\n",
       "                         '* [Sign Up for Information](/apply/signup)\\n'\n",
       "                         '* [Contact Us](/about/contact-us)\\n'\n",
       "                         '* [Upcoming Events](/events/upcoming-events)\\n'\n",
       "                         '* [Financial '\n",
       "                         'Support](/financial/financial-information)\\n'\n",
       "                         '* [Rutgers Schools and '\n",
       "                         'Colleges](http://www.rutgers.edu/academics/schools-colleges)\\n'\n",
       "                         '\\n'\n",
       "                         '\\n'\n",
       "                         '\\n'\n",
       "                         '\\n'\n",
       "                         '\\n'\n",
       "                         '\\n'\n",
       "                         '\\n'\n",
       "                         '\\n'\n",
       "                         '\\n'\n",
       "                         '\\n'\n",
       "                         '\\n'\n",
       "                         '\\n'\n",
       "                         '\\n'\n",
       "                         '[Feedback](http://grad.admissions.rutgers.edu/Contact/?campus=Feedback) \\xa0'\n",
       "                         '|\\xa0 [Site Map](/sitemap) \\xa0|\\xa0 Graduate '\n",
       "                         'Admissions: [New '\n",
       "                         'Brunswick](http://grad.admissions.rutgers.edu/Contact) \\xa0'\n",
       "                         '|\\xa0 '\n",
       "                         '[Newark](http://grad.admissions.rutgers.edu/Contact/?campus=Newark) \\xa0'\n",
       "                         '|\\xa0 '\n",
       "                         '[Camden](http://grad.admissions.rutgers.edu/Contact/?campus=Camden)\\n'\n",
       "                         '\\n'\n",
       "                         '\\n'\n",
       "                         '\\n'\n",
       "                         '\\n'\n",
       "                         '[Copyright © '\n",
       "                         '2024](http://www.rutgers.edu/site-resource/copyright-information), '\n",
       "                         'Rutgers, The State University of New Jersey, an '\n",
       "                         'equal opportunity, affirmative action '\n",
       "                         'institution.  \\n'\n",
       "                         '\\n'\n",
       "                         '[Site '\n",
       "                         'Map](http://www.rutgers.edu/site-resource/sitemap) | '\n",
       "                         'Follow us on: '\n",
       "                         '[![Facebook](/Images/facebook_icon_0.png '\n",
       "                         '\"Facebook\")](http://www.facebook.com/pages/New-Brunswick-Newark-and-Camden/Rutgers-University/172636137574)\\xa0'\n",
       "                         '[![YouTube](/Images/youtube_icon_0.png '\n",
       "                         '\"YouTube\")](http://www.youtube.com/rutgers)\\xa0'\n",
       "                         '[![Twitter](/Images/twitter_icon_0.png '\n",
       "                         '\"Twitter\")](http://www.twitter.com/RutgersU)\\n'\n",
       "                         '\\n'\n",
       "                         '\\n'\n",
       "                         '\\n'\n",
       "                         '\\n'\n",
       "                         '\\n'\n",
       "                         '\\n'\n",
       "                         '\\n'\n",
       "                         '\\n'\n",
       "                         '\\n'\n",
       "                         '\\n'\n",
       "                         '---',\n",
       "              'title': 'Explore Programs | Graduate and Professional '\n",
       "                       'Admissions',\n",
       "              'url': 'https://gradstudy.rutgers.edu/explore/explore-programs'},\n",
       " 'score': 0.699323952,\n",
       " 'values': []}"
      ]
     },
     "execution_count": 8,
     "metadata": {},
     "output_type": "execute_result"
    }
   ],
   "source": [
    "results['matches'][2]"
   ]
  },
  {
   "cell_type": "code",
   "execution_count": null,
   "metadata": {},
   "outputs": [],
   "source": []
  }
 ],
 "metadata": {
  "kernelspec": {
   "display_name": "sgs-chatbot-LQF_GuE7-py3.10",
   "language": "python",
   "name": "python3"
  },
  "language_info": {
   "codemirror_mode": {
    "name": "ipython",
    "version": 3
   },
   "file_extension": ".py",
   "mimetype": "text/x-python",
   "name": "python",
   "nbconvert_exporter": "python",
   "pygments_lexer": "ipython3",
   "version": "3.10.8"
  }
 },
 "nbformat": 4,
 "nbformat_minor": 2
}

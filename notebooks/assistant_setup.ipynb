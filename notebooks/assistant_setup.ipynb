{
 "cells": [
  {
   "cell_type": "markdown",
   "metadata": {},
   "source": [
    "# Step 0: Load Packages"
   ]
  },
  {
   "cell_type": "code",
   "execution_count": 40,
   "metadata": {},
   "outputs": [],
   "source": [
    "from glob import glob\n",
    "import re\n",
    "import os\n",
    "from tqdm import tqdm\n",
    "import json\n",
    "import pandas as pd\n",
    "import hashlib\n",
    "# import sys\n",
    "# sys.path.append('../')\n",
    "from IPython.display import Markdown, display\n",
    "\n",
    "from llama_index.core.node_parser import SentenceSplitter\n",
    "from llama_index.readers.file import FlatReader\n",
    "from pathlib import Path\n",
    "\n",
    "from dotenv import load_dotenv\n",
    "load_dotenv()\n",
    "\n",
    "from sgs_chatbot.embedder.voyage import VoyageEmbedder\n",
    "embedder = VoyageEmbedder(api_key=os.getenv('VOYAGE_KEY'))\n",
    "\n",
    "from sgs_chatbot.vector_database.record import Record\n",
    "from sgs_chatbot.vector_database.pinecone import PineconeVectorDatabase\n",
    "vectordb = PineconeVectorDatabase(api_key=os.getenv('SGS_API_KEY'), index_name=os.getenv('SGS_INDEX_NAME'))\n"
   ]
  },
  {
   "cell_type": "markdown",
   "metadata": {},
   "source": [
    "# Step 1: Scraper\n",
    "\n",
    "Run the scraper for all the spiders from the `./scraper/` folder.\n",
    "\n",
    "Eg: to run the grad_school_info_spider\n",
    "`scrapy crawl grad_school_info_spider`\n",
    "\n",
    "The data will be accumulated inside the `data/<spider_name>`\n",
    " folder path"
   ]
  },
  {
   "cell_type": "markdown",
   "metadata": {},
   "source": [
    "# Step 2: Doc Formatting"
   ]
  },
  {
   "cell_type": "code",
   "execution_count": 2,
   "metadata": {},
   "outputs": [],
   "source": [
    "def remove_multiple_whitespaces(s):\n",
    "    return re.sub('\\s+', ' ', s)\n",
    "\n",
    "def remove_newlines(s):\n",
    "    s = s.replace('\\r\\n\\t', '')\n",
    "    s = s.replace('\\n', ' ')\n",
    "    s = s.replace('\\r', ' ')\n",
    "    s = s.replace('\\t', ' ')\n",
    "    #remove multiple whitespaces\n",
    "    s = remove_multiple_whitespaces(s)\n",
    "    return s.strip()"
   ]
  },
  {
   "cell_type": "code",
   "execution_count": 3,
   "metadata": {},
   "outputs": [],
   "source": [
    "data_path = '../data/'\n",
    "metadata_path = glob(os.path.join(data_path, '*/**/*.json'))"
   ]
  },
  {
   "cell_type": "code",
   "execution_count": 4,
   "metadata": {},
   "outputs": [
    {
     "data": {
      "text/plain": [
       "['../data/grad_school_info_spider/gradstudy.rutgers.edu/metadata.json',\n",
       " '../data/grad_school_info_spider/grad.admissions.rutgers.edu/metadata.json',\n",
       " '../data/grad_school_info_spider/rutgers.my.site.com/metadata.json',\n",
       " '../data/grad_school_info_spider/grad.rutgers.edu/metadata.json']"
      ]
     },
     "execution_count": 4,
     "metadata": {},
     "output_type": "execute_result"
    }
   ],
   "source": [
    "metadata_path"
   ]
  },
  {
   "cell_type": "markdown",
   "metadata": {},
   "source": [
    "Load content from all the markdown files"
   ]
  },
  {
   "cell_type": "code",
   "execution_count": 5,
   "metadata": {},
   "outputs": [
    {
     "name": "stderr",
     "output_type": "stream",
     "text": [
      "  0%|          | 0/4 [00:00<?, ?it/s]"
     ]
    },
    {
     "name": "stderr",
     "output_type": "stream",
     "text": [
      "100%|██████████| 4/4 [00:00<00:00, 54.21it/s]\n"
     ]
    }
   ],
   "source": [
    "records = []\n",
    "for path in tqdm(metadata_path, total=len(metadata_path)):\n",
    "    #open json file\n",
    "    with open(path, 'r') as f:\n",
    "        metadata = json.load(f)\n",
    "    \n",
    "    for filename, meta in metadata.items():\n",
    "        records.append({\n",
    "            'markdown': open(os.path.join('../data', filename), 'r').read(),\n",
    "            'url': meta['url'],\n",
    "            'title': meta['title'],\n",
    "        })"
   ]
  },
  {
   "cell_type": "code",
   "execution_count": 6,
   "metadata": {},
   "outputs": [],
   "source": [
    "data = pd.DataFrame(records)"
   ]
  },
  {
   "cell_type": "code",
   "execution_count": 7,
   "metadata": {},
   "outputs": [],
   "source": [
    "data['title'] = data['title'].apply(remove_newlines)\n"
   ]
  },
  {
   "cell_type": "markdown",
   "metadata": {},
   "source": [
    "*Examine the token distribution in these documents*"
   ]
  },
  {
   "cell_type": "code",
   "execution_count": 8,
   "metadata": {},
   "outputs": [],
   "source": [
    "data['num_tokens'] = data['markdown'].apply(lambda x: embedder.count_tokens(x))"
   ]
  },
  {
   "cell_type": "code",
   "execution_count": 9,
   "metadata": {},
   "outputs": [
    {
     "data": {
      "text/plain": [
       "count      102.000000\n",
       "mean      4126.333333\n",
       "std       2463.642841\n",
       "min       1021.000000\n",
       "10%       2376.000000\n",
       "25%       3063.250000\n",
       "50%       3616.500000\n",
       "75%       4582.750000\n",
       "90%       5656.400000\n",
       "max      20997.000000\n",
       "Name: num_tokens, dtype: float64"
      ]
     },
     "execution_count": 9,
     "metadata": {},
     "output_type": "execute_result"
    }
   ],
   "source": [
    "data['num_tokens'].describe(percentiles=[0.1, 0.25, 0.5, 0.75, 0.9])"
   ]
  },
  {
   "cell_type": "code",
   "execution_count": 10,
   "metadata": {},
   "outputs": [],
   "source": [
    "data.to_parquet('../data/markdowns.parquet', engine='pyarrow', index=False)"
   ]
  },
  {
   "cell_type": "markdown",
   "metadata": {},
   "source": [
    "## Chunking"
   ]
  },
  {
   "cell_type": "code",
   "execution_count": 41,
   "metadata": {},
   "outputs": [
    {
     "name": "stderr",
     "output_type": "stream",
     "text": [
      "100%|██████████| 4/4 [00:02<00:00,  1.79it/s]\n"
     ]
    }
   ],
   "source": [
    "records = []\n",
    "parser = SentenceSplitter(chunk_size=512, chunk_overlap=32)\n",
    "for path in tqdm(metadata_path, total=len(metadata_path)):\n",
    "    #open json file\n",
    "    with open(path, 'r') as f:\n",
    "        metadata = json.load(f)\n",
    "    \n",
    "    for filename, meta in metadata.items():\n",
    "        md_docs = FlatReader().load_data(Path(os.path.join('../data', filename)))\n",
    "        nodes = parser.get_nodes_from_documents(md_docs)\n",
    "        for node in nodes:\n",
    "            records.append({\n",
    "                'markdown': node.get_content(),\n",
    "                'url': meta['url'],\n",
    "                'title': meta['title'],\n",
    "            })"
   ]
  },
  {
   "cell_type": "code",
   "execution_count": 42,
   "metadata": {},
   "outputs": [],
   "source": [
    "data = pd.DataFrame(records)"
   ]
  },
  {
   "cell_type": "code",
   "execution_count": 43,
   "metadata": {},
   "outputs": [
    {
     "data": {
      "text/html": [
       "<div>\n",
       "<style scoped>\n",
       "    .dataframe tbody tr th:only-of-type {\n",
       "        vertical-align: middle;\n",
       "    }\n",
       "\n",
       "    .dataframe tbody tr th {\n",
       "        vertical-align: top;\n",
       "    }\n",
       "\n",
       "    .dataframe thead th {\n",
       "        text-align: right;\n",
       "    }\n",
       "</style>\n",
       "<table border=\"1\" class=\"dataframe\">\n",
       "  <thead>\n",
       "    <tr style=\"text-align: right;\">\n",
       "      <th></th>\n",
       "      <th>markdown</th>\n",
       "      <th>url</th>\n",
       "      <th>title</th>\n",
       "    </tr>\n",
       "  </thead>\n",
       "  <tbody>\n",
       "    <tr>\n",
       "      <th>0</th>\n",
       "      <td># \\n\\tHome | Graduate and Professional Admissi...</td>\n",
       "      <td>https://gradstudy.rutgers.edu/</td>\n",
       "      <td>\\r\\n\\tHome | Graduate and Professional Admissi...</td>\n",
       "    </tr>\n",
       "    <tr>\n",
       "      <th>1</th>\n",
       "      <td>[![Graduate and Professional Admissions Home](...</td>\n",
       "      <td>https://gradstudy.rutgers.edu/</td>\n",
       "      <td>\\r\\n\\tHome | Graduate and Professional Admissi...</td>\n",
       "    </tr>\n",
       "    <tr>\n",
       "      <th>2</th>\n",
       "      <td>![](/Images/Program_Focus.jpg)\\n\\n\\n\\n**Biomed...</td>\n",
       "      <td>https://gradstudy.rutgers.edu/</td>\n",
       "      <td>\\r\\n\\tHome | Graduate and Professional Admissi...</td>\n",
       "    </tr>\n",
       "    <tr>\n",
       "      <th>3</th>\n",
       "      <td>**Graduate Admissions - School of Nursing**  \\...</td>\n",
       "      <td>https://gradstudy.rutgers.edu/</td>\n",
       "      <td>\\r\\n\\tHome | Graduate and Professional Admissi...</td>\n",
       "    </tr>\n",
       "    <tr>\n",
       "      <th>4</th>\n",
       "      <td>* **Application Portal**\\n* [**Create Account*...</td>\n",
       "      <td>https://gradstudy.rutgers.edu/</td>\n",
       "      <td>\\r\\n\\tHome | Graduate and Professional Admissi...</td>\n",
       "    </tr>\n",
       "    <tr>\n",
       "      <th>...</th>\n",
       "      <td>...</td>\n",
       "      <td>...</td>\n",
       "      <td>...</td>\n",
       "    </tr>\n",
       "    <tr>\n",
       "      <th>785</th>\n",
       "      <td>+ [Application Requirements](/admissions/appli...</td>\n",
       "      <td>https://grad.rutgers.edu/alumni</td>\n",
       "      <td>Alumni | Rutgers School of Graduate Studies</td>\n",
       "    </tr>\n",
       "    <tr>\n",
       "      <th>786</th>\n",
       "      <td>+ [Current Graduate Students](/diversity-and-o...</td>\n",
       "      <td>https://grad.rutgers.edu/alumni</td>\n",
       "      <td>Alumni | Rutgers School of Graduate Studies</td>\n",
       "    </tr>\n",
       "    <tr>\n",
       "      <th>787</th>\n",
       "      <td>+ [SGS Fellowships &amp; Grants](/funding/fellowsh...</td>\n",
       "      <td>https://grad.rutgers.edu/alumni</td>\n",
       "      <td>Alumni | Rutgers School of Graduate Studies</td>\n",
       "    </tr>\n",
       "    <tr>\n",
       "      <th>788</th>\n",
       "      <td>1. [Home](/)\\n2. Alumni\\n\\n\\n\\n\\n\\n\\n\\n\\n\\n\\n\\...</td>\n",
       "      <td>https://grad.rutgers.edu/alumni</td>\n",
       "      <td>Alumni | Rutgers School of Graduate Studies</td>\n",
       "    </tr>\n",
       "    <tr>\n",
       "      <th>789</th>\n",
       "      <td>[View Details](/news/sgs-alumni-spotlight-lorn...</td>\n",
       "      <td>https://grad.rutgers.edu/alumni</td>\n",
       "      <td>Alumni | Rutgers School of Graduate Studies</td>\n",
       "    </tr>\n",
       "  </tbody>\n",
       "</table>\n",
       "<p>790 rows × 3 columns</p>\n",
       "</div>"
      ],
      "text/plain": [
       "                                              markdown  \\\n",
       "0    # \\n\\tHome | Graduate and Professional Admissi...   \n",
       "1    [![Graduate and Professional Admissions Home](...   \n",
       "2    ![](/Images/Program_Focus.jpg)\\n\\n\\n\\n**Biomed...   \n",
       "3    **Graduate Admissions - School of Nursing**  \\...   \n",
       "4    * **Application Portal**\\n* [**Create Account*...   \n",
       "..                                                 ...   \n",
       "785  + [Application Requirements](/admissions/appli...   \n",
       "786  + [Current Graduate Students](/diversity-and-o...   \n",
       "787  + [SGS Fellowships & Grants](/funding/fellowsh...   \n",
       "788  1. [Home](/)\\n2. Alumni\\n\\n\\n\\n\\n\\n\\n\\n\\n\\n\\n\\...   \n",
       "789  [View Details](/news/sgs-alumni-spotlight-lorn...   \n",
       "\n",
       "                                 url  \\\n",
       "0     https://gradstudy.rutgers.edu/   \n",
       "1     https://gradstudy.rutgers.edu/   \n",
       "2     https://gradstudy.rutgers.edu/   \n",
       "3     https://gradstudy.rutgers.edu/   \n",
       "4     https://gradstudy.rutgers.edu/   \n",
       "..                               ...   \n",
       "785  https://grad.rutgers.edu/alumni   \n",
       "786  https://grad.rutgers.edu/alumni   \n",
       "787  https://grad.rutgers.edu/alumni   \n",
       "788  https://grad.rutgers.edu/alumni   \n",
       "789  https://grad.rutgers.edu/alumni   \n",
       "\n",
       "                                                 title  \n",
       "0    \\r\\n\\tHome | Graduate and Professional Admissi...  \n",
       "1    \\r\\n\\tHome | Graduate and Professional Admissi...  \n",
       "2    \\r\\n\\tHome | Graduate and Professional Admissi...  \n",
       "3    \\r\\n\\tHome | Graduate and Professional Admissi...  \n",
       "4    \\r\\n\\tHome | Graduate and Professional Admissi...  \n",
       "..                                                 ...  \n",
       "785        Alumni | Rutgers School of Graduate Studies  \n",
       "786        Alumni | Rutgers School of Graduate Studies  \n",
       "787        Alumni | Rutgers School of Graduate Studies  \n",
       "788        Alumni | Rutgers School of Graduate Studies  \n",
       "789        Alumni | Rutgers School of Graduate Studies  \n",
       "\n",
       "[790 rows x 3 columns]"
      ]
     },
     "execution_count": 43,
     "metadata": {},
     "output_type": "execute_result"
    }
   ],
   "source": [
    "data"
   ]
  },
  {
   "cell_type": "code",
   "execution_count": 44,
   "metadata": {},
   "outputs": [
    {
     "data": {
      "text/plain": [
       "count    790.000000\n",
       "mean     540.241772\n",
       "std      125.719379\n",
       "min       87.000000\n",
       "10%      360.000000\n",
       "25%      482.250000\n",
       "50%      575.500000\n",
       "75%      633.000000\n",
       "90%      676.000000\n",
       "max      798.000000\n",
       "Name: num_tokens, dtype: float64"
      ]
     },
     "execution_count": 44,
     "metadata": {},
     "output_type": "execute_result"
    }
   ],
   "source": [
    "data['title'] = data['title'].apply(remove_newlines)\n",
    "data['num_tokens'] = data['markdown'].apply(lambda x: embedder.count_tokens(x))\n",
    "data['num_tokens'].describe(percentiles=[0.1, 0.25, 0.5, 0.75, 0.9])"
   ]
  },
  {
   "cell_type": "code",
   "execution_count": 45,
   "metadata": {},
   "outputs": [],
   "source": [
    "data.to_parquet('../data/markdowns_chunked.parquet', engine='pyarrow', index=False)"
   ]
  },
  {
   "cell_type": "markdown",
   "metadata": {},
   "source": [
    "# Step 3: Generate Embeddings"
   ]
  },
  {
   "cell_type": "code",
   "execution_count": 46,
   "metadata": {},
   "outputs": [
    {
     "name": "stderr",
     "output_type": "stream",
     "text": [
      "  0%|          | 0/790 [00:00<?, ?it/s]"
     ]
    },
    {
     "name": "stderr",
     "output_type": "stream",
     "text": [
      "/Users/arao/Library/Caches/pypoetry/virtualenvs/sgs-chatbot-LQF_GuE7-py3.10/lib/python3.10/site-packages/voyageai/client.py:38: UserWarning: The `model` argument is not specified and defaults to voyage-2. It will be a required argument in the future. We recommend to specify the model when using this function. Please see https://docs.voyageai.com/docs/embeddings for the list of latest models provided by Voyage AI.\n",
      "  warnings.warn(\n",
      "100%|██████████| 790/790 [03:48<00:00,  3.45it/s]\n"
     ]
    }
   ],
   "source": [
    "\n",
    "records = data.to_dict(orient='records')\n",
    "updated_records = []\n",
    "for record in tqdm(records, total=len(records)):\n",
    "    updated_records.append({\n",
    "        'url': record['url'],\n",
    "        'title': record['title'],\n",
    "        'markdown': record['markdown'],\n",
    "        'num_tokens': record['num_tokens'],\n",
    "        'embeddings': embedder.embed(record['markdown'])\n",
    "    })\n",
    "\n",
    "data = pd.DataFrame(updated_records)"
   ]
  },
  {
   "cell_type": "code",
   "execution_count": 47,
   "metadata": {},
   "outputs": [],
   "source": [
    "data.to_parquet('../data/embeddings.parquet', engine='pyarrow', index = None)"
   ]
  },
  {
   "cell_type": "markdown",
   "metadata": {},
   "source": [
    "# Step 4: Ingestion to DB"
   ]
  },
  {
   "cell_type": "code",
   "execution_count": 48,
   "metadata": {},
   "outputs": [],
   "source": [
    "data = pd.read_parquet('../data/embeddings.parquet', engine='pyarrow')"
   ]
  },
  {
   "cell_type": "code",
   "execution_count": 49,
   "metadata": {},
   "outputs": [
    {
     "data": {
      "text/plain": [
       "Index(['url', 'title', 'markdown', 'num_tokens', 'embeddings'], dtype='object')"
      ]
     },
     "execution_count": 49,
     "metadata": {},
     "output_type": "execute_result"
    }
   ],
   "source": [
    "data.columns"
   ]
  },
  {
   "cell_type": "markdown",
   "metadata": {},
   "source": [
    "*Create Records to push to vector db*"
   ]
  },
  {
   "cell_type": "code",
   "execution_count": 50,
   "metadata": {},
   "outputs": [],
   "source": [
    "records_to_upsert = []\n",
    "\n",
    "for _, row in data.iterrows():\n",
    "    record_data = {\n",
    "        'id': hashlib.sha256(row['url'].encode()).hexdigest(),  # Generating ID from URL\n",
    "        'values': row['embeddings'],  # Directly using embeddings\n",
    "        'metadata': {\n",
    "            'url': row['url'],\n",
    "            'title': row['title'],\n",
    "            'content': row['markdown'],\n",
    "        }\n",
    "    }\n",
    "    record = Record(**record_data)\n",
    "    records_to_upsert.append({\n",
    "        \"id\": record.id,\n",
    "        \"values\": record.values,\n",
    "        \"metadata\": record.metadata\n",
    "    })\n"
   ]
  },
  {
   "cell_type": "code",
   "execution_count": 51,
   "metadata": {},
   "outputs": [
    {
     "name": "stdout",
     "output_type": "stream",
     "text": [
      "Upserted:  790  records with batch size:  100\n"
     ]
    }
   ],
   "source": [
    "vectordb.upsert(records=records_to_upsert, batch_size=100)"
   ]
  },
  {
   "cell_type": "markdown",
   "metadata": {},
   "source": [
    "# Step 5: RAG"
   ]
  },
  {
   "cell_type": "markdown",
   "metadata": {},
   "source": []
  }
 ],
 "metadata": {
  "kernelspec": {
   "display_name": "sgs-chatbot-LQF_GuE7-py3.10",
   "language": "python",
   "name": "python3"
  },
  "language_info": {
   "codemirror_mode": {
    "name": "ipython",
    "version": 3
   },
   "file_extension": ".py",
   "mimetype": "text/x-python",
   "name": "python",
   "nbconvert_exporter": "python",
   "pygments_lexer": "ipython3",
   "version": "3.10.8"
  }
 },
 "nbformat": 4,
 "nbformat_minor": 2
}
